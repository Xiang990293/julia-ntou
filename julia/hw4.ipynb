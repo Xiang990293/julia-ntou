{
 "cells": [
  {
   "cell_type": "code",
   "execution_count": 3,
   "metadata": {},
   "outputs": [
    {
     "name": "stdout",
     "output_type": "stream",
     "text": [
      "10:-1:1\n"
     ]
    }
   ],
   "source": [
    "x=[10:-1:1]\n",
    "for m=1:length(x)\n",
    "\tprintln(x[m])\n",
    "end"
   ]
  },
  {
   "cell_type": "code",
   "execution_count": null,
   "metadata": {},
   "outputs": [],
   "source": [
    "x=vec(zeros(Int64, 1,5))\n",
    "for i in 1:10\n",
    "\tfor j in 1:1000\n",
    "\t\tprintln(j)\n",
    "\t\tx[j]+=1\n",
    "\t\tif j>=5\n",
    "\t\t\tbreak\n",
    "\t\tend\n",
    "\tend\n",
    "end\n",
    "\n",
    "println(x)\n"
   ]
  },
  {
   "cell_type": "code",
   "execution_count": null,
   "metadata": {},
   "outputs": [],
   "source": [
    "# calculate pi with monte carlo\n",
    "# x=0:0.0000001:1\n",
    "# y=0:0.0000001:1\n",
    "# in_square=0\n",
    "# in_circle=0\n",
    "# i=0\n",
    "# while ((i <= 3.14159) ||(in_square<100000))\n",
    "# \tin_square+=1\n",
    "# \tif(sqrt(rand(x)^2+rand(y)^2)<=0.5) in_circle+=1 end\n",
    "# \ti = 4*in_circle/in_square*4\n",
    "# \tprintln(in_square,\": \",i)\n",
    "# end\n",
    "# println(in_square,\": \",i)\n"
   ]
  },
  {
   "cell_type": "code",
   "execution_count": 12,
   "metadata": {},
   "outputs": [
    {
     "name": "stdout",
     "output_type": "stream",
     "text": [
      "1 * 8 + 1 = 9\n",
      "12 * 8 + 2 = 98\n",
      "123 * 8 + 3 = 987\n",
      "1234 * 8 + 4 = 9876\n",
      "12345 * 8 + 5 = 98765\n",
      "123456 * 8 + 6 = 987654\n",
      "1234567 * 8 + 7 = 9876543\n",
      "12345678 * 8 + 8 = 98765432\n",
      "123456789 * 8 + 9 = 987654321\n"
     ]
    }
   ],
   "source": [
    "s_front = \"\"\n",
    "s_end = \"\"\n",
    "for i in 1:9\n",
    "\ts_front *= string(i)\n",
    "\ts_end *= string(9-i+1)\n",
    "\tprintln(s_front,\" * 8 + \",i,\" = \",s_end)\n",
    "end"
   ]
  },
  {
   "cell_type": "code",
   "execution_count": 40,
   "metadata": {},
   "outputs": [
    {
     "name": "stdout",
     "output_type": "stream",
     "text": [
      "5.5 5.5\n"
     ]
    }
   ],
   "source": [
    "using Statistics\n",
    "# two dice hw\n",
    "function get_mean_for_vec(v::Vector)\n",
    "\tsum = 0\n",
    "\tfor i in v\n",
    "\t\tsum+=i\n",
    "\tend\n",
    "\n",
    "\treturn sum/length(v)\n",
    "end\n",
    "\n",
    "println(get_mean_for_vec(Vector(1:10)),\" \",mean(Vector(1:10)))\n"
   ]
  },
  {
   "cell_type": "code",
   "execution_count": 16,
   "metadata": {},
   "outputs": [
    {
     "name": "stdout",
     "output_type": "stream",
     "text": [
      "30\n"
     ]
    }
   ],
   "source": [
    "two=0\n",
    "\n",
    "for _ in 1:1000\n",
    "\ttwo+=(rand(1:6)+rand(1:6)==2)\n",
    "end\n",
    "\n",
    "println(two) # 1000/36 ~= 27.778"
   ]
  }
 ],
 "metadata": {
  "kernelspec": {
   "display_name": "Julia 1.10.5",
   "language": "julia",
   "name": "julia-1.10"
  },
  "language_info": {
   "file_extension": ".jl",
   "mimetype": "application/julia",
   "name": "julia",
   "version": "1.10.5"
  }
 },
 "nbformat": 4,
 "nbformat_minor": 2
}
