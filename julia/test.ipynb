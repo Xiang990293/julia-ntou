{
 "cells": [
  {
   "cell_type": "markdown",
   "metadata": {},
   "source": [
    "ppt https://gofile.me/7apKy/f35E10yFx\n",
    "\n",
    "handout http://kilmerlab.quickconnect.to/sharing/TF1pJyULB\n"
   ]
  },
  {
   "cell_type": "code",
   "execution_count": 11,
   "metadata": {},
   "outputs": [
    {
     "name": "stdout",
     "output_type": "stream",
     "text": [
      "1*1=1\t1*2=2\t1*3=3\t1*4=4\t1*5=5\t1*6=6\t1*7=7\t1*8=8\t1*9=9\t\n",
      "2*1=2\t2*2=4\t2*3=6\t2*4=8\t2*5=10\t2*6=12\t2*7=14\t2*8=16\t2*9=18\t\n",
      "3*1=3\t3*2=6\t3*3=9\t3*4=12\t3*5=15\t3*6=18\t3*7=21\t3*8=24\t3*9=27\t\n",
      "4*1=4\t4*2=8\t4*3=12\t4*4=16\t4*5=20\t4*6=24\t4*7=28\t4*8=32\t4*9=36\t\n",
      "5*1=5\t5*2=10\t5*3=15\t5*4=20\t5*5=25\t5*6=30\t5*7=35\t5*8=40\t5*9=45\t\n",
      "6*1=6\t6*2=12\t6*3=18\t6*4=24\t6*5=30\t6*6=36\t6*7=42\t6*8=48\t6*9=54\t\n",
      "7*1=7\t7*2=14\t7*3=21\t7*4=28\t7*5=35\t7*6=42\t7*7=49\t7*8=56\t7*9=63\t\n",
      "8*1=8\t8*2=16\t8*3=24\t8*4=32\t8*5=40\t8*6=48\t8*7=56\t8*8=64\t8*9=72\t\n",
      "9*1=9\t9*2=18\t9*3=27\t9*4=36\t9*5=45\t9*6=54\t9*7=63\t9*8=72\t9*9=81\t\n"
     ]
    }
   ],
   "source": [
    "for i in range(1,9)\n",
    "    for j in range(1,9)\n",
    "        print(i, \"*\", j, \"=\", i*j, \"\\t\")\n",
    "    end\n",
    "    println(\"\")\n",
    "end"
   ]
  },
  {
   "cell_type": "code",
   "execution_count": 19,
   "metadata": {},
   "outputs": [
    {
     "name": "stdout",
     "output_type": "stream",
     "text": [
      "*\n",
      "**\n",
      "***\n",
      "****\n",
      "*****\n",
      "******\n",
      "*******\n",
      "********\n",
      "*********\n",
      "**********\n",
      "***********\n",
      "************\n",
      "*************\n",
      "**************\n",
      "***************\n",
      "****************\n",
      "*****************\n",
      "******************\n",
      "*******************\n",
      "********************\n"
     ]
    }
   ],
   "source": [
    "for i in range(1, 20)\n",
    "    for j in range(1, i)\n",
    "        print(\"*\")\n",
    "    end\n",
    "    println(\"\")\n",
    "end"
   ]
  },
  {
   "cell_type": "code",
   "execution_count": 25,
   "metadata": {},
   "outputs": [
    {
     "name": "stdout",
     "output_type": "stream",
     "text": [
      "\n",
      "\n",
      "\n",
      "*\n",
      "**\n",
      "***\n",
      "****\n",
      "******\n",
      "********\n",
      "**********\n",
      "************\n",
      "**************\n",
      "****************\n",
      "*******************\n",
      "**********************\n",
      "*************************\n",
      "****************************\n",
      "********************************\n",
      "************************************\n",
      "****************************************\n"
     ]
    }
   ],
   "source": [
    "for i in range(1, 20)\n",
    "    for j in range(1, i^2/10)\n",
    "        print(\"*\")\n",
    "    end\n",
    "    println(\"\")\n",
    "end"
   ]
  },
  {
   "cell_type": "code",
   "execution_count": 28,
   "metadata": {},
   "outputs": [
    {
     "data": {
      "text/plain": [
       "false"
      ]
     },
     "metadata": {},
     "output_type": "display_data"
    }
   ],
   "source": [
    "false == true"
   ]
  },
  {
   "cell_type": "code",
   "execution_count": null,
   "metadata": {},
   "outputs": [],
   "source": [
    "π=pi"
   ]
  },
  {
   "cell_type": "code",
   "execution_count": 1,
   "metadata": {},
   "outputs": [
    {
     "data": {
      "text/plain": [
       "\"f:\\\\julia\\\\julia-ntou\\\\julia\""
      ]
     },
     "metadata": {},
     "output_type": "display_data"
    }
   ],
   "source": [
    "pwd()"
   ]
  },
  {
   "cell_type": "code",
   "execution_count": null,
   "metadata": {},
   "outputs": [
    {
     "name": "stderr",
     "output_type": "stream",
     "text": [
      "┌ Info: running setenv(`'C:\\Users\\99029\\.julia\\conda\\3\\x86_64\\Scripts\\jupyter.exe' notebook`,[\"WINDIR=C:\\\\WINDOWS\", \"PATH=C:\\\\Users\\\\99029\\\\.julia\\\\conda\\\\3\\\\x86_64\\\\Library\\\\bin;C:\\\\Users\\\\99029\\\\.julia\\\\conda\\\\3\\\\x86_64\\\\Scripts;C:\\\\Program Files\\\\Microsoft\\\\jdk-11.0.16.101-hotspot\\\\bin;C:\\\\Program Files\\\\Common Files\\\\Oracle\\\\Java\\\\javapath;C:\\\\Program Files (x86)\\\\Common Files\\\\Oracle\\\\Java\\\\javapath;C:\\\\Program Files\\\\dotnet\\\\;C:\\\\Program Files (x86)\\\\Intel\\\\Intel(R) Management Engine Components\\\\iCLS\\\\;C:\\\\Program Files\\\\Intel\\\\Intel(R) Management Engine Components\\\\iCLS\\\\;C:\\\\WINDOWS\\\\system32;C:\\\\WINDOWS;C:\\\\WINDOWS\\\\System32\\\\Wbem;C:\\\\WINDOWS\\\\System32\\\\WindowsPowerShell\\\\v1.0\\\\;C:\\\\WINDOWS\\\\System32\\\\OpenSSH\\\\;C:\\\\msys64\\\\mingw64\\\\bin;E:\\\\msys64\\\\mingw64\\\\bin;C:\\\\Program Files (x86)\\\\Intel\\\\Intel(R) Management Engine Components\\\\DAL;C:\\\\Program Files\\\\Intel\\\\Intel(R) Management Engine Components\\\\DAL;C:\\\\Program Files (x86)\\\\Intel\\\\Intel(R) Management Engine Components\\\\IPT;C:\\\\Program Files\\\\Intel\\\\Intel(R) Management Engine Components\\\\IPT;C:\\\\ProgramData\\\\chocolatey\\\\bin;E:\\\\APPDATA\\\\Git\\\\cmd;E:\\\\APPDATA\\\\MATLAB\\\\R2024b\\\\bin;E:\\\\APPDATA\\\\MATLAB\\\\R2023b\\\\bin;E:\\\\APPDATA\\\\MATLAB\\\\R2022b\\\\bin;E:\\\\APPDATA\\\\nodejs\\\\;F:\\\\翔越風\\\\discord-bot;C:\\\\Program Files (x86)\\\\ZeroTier\\\\One\\\\;E:\\\\APPDATA\\\\Java\\\\corretto-21.0.3\\\\bin;E:\\\\APPDATA\\\\Java\\\\corretto-21.0.3\\\\jre\\\\bin;C:\\\\Program Files\\\\Cloudflare\\\\Cloudflare WARP\\\\;C:\\\\Users\\\\99029\\\\AppData\\\\Local\\\\Programs\\\\Python\\\\Python312\\\\Scripts\\\\;C:\\\\Users\\\\99029\\\\AppData\\\\Local\\\\Programs\\\\Python\\\\Python312\\\\;C:\\\\Users\\\\99029\\\\AppData\\\\Local\\\\Microsoft\\\\WindowsApps;E:\\\\APPDATA\\\\Microsoft VS Code\\\\bin;E:\\\\Program Files\\\\heroku\\\\bin;C:\\\\Users\\\\99029\\\\AppData\\\\Local\\\\GitHubDesktop\\\\bin;C:\\\\msys64\\\\mingw64\\\\bin;c:\\\\users\\\\99029\\\\.local\\\\bin;c:\\\\users\\\\99029\\\\appdata\\\\roaming\\\\python\\\\python310\\\\scripts;E:\\\\APPDATA\\\\ffmpeg\\\\bin;C:\\\\Users\\\\99029\\\\.dotnet\\\\tools;C:\\\\Users\\\\99029\\\\AppData\\\\Roaming\\\\npm;E:\\\\msys64\\\\mingw64\\\\bin;E:\\\\APPDATA\\\\Cloud SDK\\\\google-cloud-sdk\\\\bin;E:\\\\APPDATA\\\\JetBrains\\\\IntelliJ IDEA Community Edition 2023.1.2\\\\bin;F:\\\\翔越風\\\\discord-bot;C:\\\\Users\\\\99029\\\\.fly\\\\bin;E:\\\\APPDATA\\\\JetBrains\\\\IntelliJ IDEA Community Edition 2023.3.3\\\\bin;;;E:\\\\APPDATA\\\\Julia-1.10.5\\\\bin\", \"ELECTRON_RUN_AS_NODE=1\", \"USERDOMAIN_ROAMINGPROFILE=XIANG990293PC\", \"VSCODE_CODE_CACHE_PATH=C:\\\\Users\\\\99029\\\\AppData\\\\Roaming\\\\Code\\\\CachedData\\\\d78a74bcdfad14d5d3b1b782f87255d802b57511\", \"ZES_ENABLE_SYSMAN=1\", \"LOCALAPPDATA=C:\\\\Users\\\\99029\\\\AppData\\\\Local\", \"HOMEPATH=\\\\Users\\\\99029\", \"VSCODE_NLS_CONFIG={\\\"userLocale\\\":\\\"zh-tw\\\",\\\"osLocale\\\":\\\"zh-tw\\\",\\\"resolvedLanguage\\\":\\\"zh-tw\\\",\\\"defaultMessagesFile\\\":\\\"E:\\\\\\\\APPDATA\\\\\\\\Microsoft VS Code\\\\\\\\resources\\\\\\\\app\\\\\\\\out\\\\\\\\nls.messages.json\\\",\\\"languagePack\\\":{\\\"translationsConfigFile\\\":\\\"C:\\\\\\\\Users\\\\\\\\99029\\\\\\\\AppData\\\\\\\\Roaming\\\\\\\\Code\\\\\\\\clp\\\\\\\\931b297c8d47c4cf2eecae753467f033.zh-tw\\\\\\\\tcf.json\\\",\\\"messagesFile\\\":\\\"C:\\\\\\\\Users\\\\\\\\99029\\\\\\\\AppData\\\\\\\\Roaming\\\\\\\\Code\\\\\\\\clp\\\\\\\\931b297c8d47c4cf2eecae753467f033.zh-tw\\\\\\\\d78a74bcdfad14d5d3b1b782f87255d802b57511\\\\\\\\nls.messages.json\\\",\\\"corruptMarkerFile\\\":\\\"C:\\\\\\\\Users\\\\\\\\99029\\\\\\\\AppData\\\\\\\\Roaming\\\\\\\\Code\\\\\\\\clp\\\\\\\\931b297c8d47c4cf2eecae753467f033.zh-tw\\\\\\\\corrupted.info\\\"},\\\"locale\\\":\\\"zh-tw\\\",\\\"availableLanguages\\\":{\\\"*\\\":\\\"zh-tw\\\"},\\\"_languagePackId\\\":\\\"931b297c8d47c4cf2eecae753467f033.zh-tw\\\",\\\"_languagePackSupport\\\":true,\\\"_translationsConfigFile\\\":\\\"C:\\\\\\\\Users\\\\\\\\99029\\\\\\\\AppData\\\\\\\\Roaming\\\\\\\\Code\\\\\\\\clp\\\\\\\\931b297c8d47c4cf2eecae753467f033.zh-tw\\\\\\\\tcf.json\\\",\\\"_cacheRoot\\\":\\\"C:\\\\\\\\Users\\\\\\\\99029\\\\\\\\AppData\\\\\\\\Roaming\\\\\\\\Code\\\\\\\\clp\\\\\\\\931b297c8d47c4cf2eecae753467f033.zh-tw\\\",\\\"_resolvedLanguagePackCoreLocation\\\":\\\"C:\\\\\\\\Users\\\\\\\\99029\\\\\\\\AppData\\\\\\\\Roaming\\\\\\\\Code\\\\\\\\clp\\\\\\\\931b297c8d47c4cf2eecae753467f033.zh-tw\\\\\\\\d78a74bcdfad14d5d3b1b782f87255d802b57511\\\",\\\"_corruptedFile\\\":\\\"C:\\\\\\\\Users\\\\\\\\99029\\\\\\\\AppData\\\\\\\\Roaming\\\\\\\\Code\\\\\\\\clp\\\\\\\\931b297c8d47c4cf2eecae753467f033.zh-tw\\\\\\\\corrupted.info\\\"}\", \"PROCESSOR_IDENTIFIER=Intel64 Family 6 Model 142 Stepping 10, GenuineIntel\", \"NUMBER_OF_PROCESSORS=4\", \"VSCODE_PID=6576\", \"PATHEXT=.COM;.EXE;.BAT;.CMD;.VBS;.VBE;.JS;.JSE;.WSF;.WSH;.MSC;.PY;.PYW\", \"SESSIONNAME=Console\", \"VSCODE_IPC_HOOK=\\\\\\\\.\\\\pipe\\\\1e066c83-1.94.0-main-sock\", \"SYSTEMROOT=C:\\\\WINDOWS\", \"APPDATA=C:\\\\Users\\\\99029\\\\AppData\\\\Roaming\", \"PSMODULEPATH=C:\\\\Users\\\\99029\\\\Documents\\\\WindowsPowerShell\\\\Modules;E:\\\\APPDATA\\\\Cloud SDK\\\\google-cloud-sdk\\\\platform\\\\PowerShell\", \"COMMONPROGRAMW6432=C:\\\\Program Files\\\\Common Files\", \"PROGRAMDATA=C:\\\\ProgramData\", \"PUBLIC=C:\\\\Users\\\\Public\", \"USERDOMAIN=XIANG990293PC\", \"OS=Windows_NT\", \"GOOGLE_APPLICATION_CREDENTIALS=F:\\\\翔越風\\\\discord-bot\\\\application_default_credentials.json\", \"PROCESSOR_REVISION=8e0a\", \"TMP=C:\\\\Users\\\\99029\\\\AppData\\\\Local\\\\Temp\", \"COMMONPROGRAMFILES(X86)=C:\\\\Program Files (x86)\\\\Common Files\", \"COMSPEC=C:\\\\WINDOWS\\\\system32\\\\cmd.exe\", \"OPENBLAS_DEFAULT_NUM_THREADS=1\", \"VBOX_MSI_INSTALL_PATH=E:\\\\Program Files\\\\Oracle\\\\VirtualBox\\\\\", \"ALLUSERSPROFILE=C:\\\\ProgramData\", \"VSCODE_CRASH_REPORTER_PROCESS_TYPE=extensionHost\", \"INTELLIJ IDEA COMMUNITY EDITION=E:\\\\APPDATA\\\\JetBrains\\\\IntelliJ IDEA Community Edition 2023.3.3\\\\bin;\", \"COMMONPROGRAMFILES=C:\\\\Program Files\\\\Common Files\", \"COMPUTERNAME=XIANG990293PC\", \"JAVA_HOME=E:\\\\APPDATA\\\\Java\\\\corretto-21.0.3\", \"JULIA_NUM_THREADS=\", \"ONEDRIVE=C:\\\\Users\\\\99029\\\\OneDrive\", \"VSCODE_CWD=E:\\\\APPDATA\\\\Microsoft VS Code\", \"CHOCOLATEYINSTALL=C:\\\\ProgramData\\\\chocolatey\", \"USERNAME=99029\", \"VSCODE_HANDLES_UNCAUGHT_ERRORS=true\", \"__PSLOCKDOWNPOLICY=0\", \"PROGRAMFILES(X86)=C:\\\\Program Files (x86)\", \"VSCODE_AMD_ENTRYPOINT=vs/workbench/api/node/extensionHostProcess\", \"PROGRAMFILES=C:\\\\Program Files\", \"CHOCOLATEYLASTPATHUPDATE=133088472037202412\", \"CHROME_CRASHPAD_PIPE_NAME=\\\\\\\\.\\\\pipe\\\\crashpad_6576_AZQALSKCWEPWFBUT\", \"CLASSPATH=.;E:\\\\APPDATA\\\\Java\\\\corretto-21.0.3\\\\lib\\\\dt.jar;E:\\\\APPDATA\\\\Java\\\\corretto-21.0.3\\\\lib\\\\tools.jar;\", \"LOGONSERVER=\\\\\\\\XIANG990293PC\", \"USERPROFILE=C:\\\\Users\\\\99029\", \"CONDARC=C:\\\\Users\\\\99029\\\\.julia\\\\conda\\\\3\\\\x86_64\\\\condarc-julia.yml\", \"DRIVERDATA=C:\\\\Windows\\\\System32\\\\Drivers\\\\DriverData\", \"ORIGINAL_XDG_CURRENT_DESKTOP=undefined\", \"CONDA_PREFIX=C:\\\\Users\\\\99029\\\\.julia\\\\conda\\\\3\\\\x86_64\", \"FPS_BROWSER_USER_PROFILE_STRING=Default\", \"PROCESSOR_LEVEL=6\", \"SYSTEMDRIVE=C:\", \"FPS_BROWSER_APP_PROFILE_STRING=Internet Explorer\", \"PROGRAMW6432=C:\\\\Program Files\", \"__COMPAT_LAYER=DetectorsAppHealth\", \"TEMP=C:\\\\Users\\\\99029\\\\AppData\\\\Local\\\\Temp\", \"HOMEDRIVE=C:\", \"OPENBLAS_MAIN_FREE=1\", \"PROCESSOR_ARCHITECTURE=AMD64\", \"PYTHONIOENCODING=UTF-8\", \"EFC_16292=1\"])\n",
      "└ @ IJulia C:\\Users\\99029\\.julia\\packages\\IJulia\\bHdNn\\src\\jupyter.jl:48\n"
     ]
    }
   ],
   "source": [
    "using IJulia\n",
    "jupyterlab(dir=pwd(), detached=true)"
   ]
  },
  {
   "cell_type": "code",
   "execution_count": 2,
   "metadata": {},
   "outputs": [
    {
     "ename": "UndefVarError",
     "evalue": "UndefVarError: int not defined",
     "output_type": "error",
     "traceback": [
      "UndefVarError: int not defined\n",
      "\n",
      "Stacktrace:\n",
      " [1] top-level scope\n",
      "   @ c:\\Users\\user\\Documents\\xiang990293\\julia\\julia-ntou\\julia\\jl_notebook_cell_df34fa98e69747e1a8f8a730347b8e2f_W6sZmlsZQ==.jl:1"
     ]
    }
   ],
   "source": [
    "int(\"1342551\")"
   ]
  },
  {
   "cell_type": "code",
   "execution_count": 3,
   "metadata": {},
   "outputs": [
    {
     "data": {
      "text/plain": [
       "3"
      ]
     },
     "metadata": {},
     "output_type": "display_data"
    }
   ],
   "source": [
    "using SymPy\n",
    "numerator(2//3)\n",
    "denominator(2//3)"
   ]
  }
 ],
 "metadata": {
  "kernelspec": {
   "display_name": "Julia 1.10.5",
   "language": "julia",
   "name": "julia-1.10"
  },
  "language_info": {
   "file_extension": ".jl",
   "mimetype": "application/julia",
   "name": "julia",
   "version": "1.10.5"
  }
 },
 "nbformat": 4,
 "nbformat_minor": 2
}
