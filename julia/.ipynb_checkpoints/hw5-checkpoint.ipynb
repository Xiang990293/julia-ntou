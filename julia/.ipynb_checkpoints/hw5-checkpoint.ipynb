{
 "cells": [
  {
   "cell_type": "markdown",
   "metadata": {},
   "source": [
    "# Exercise"
   ]
  },
  {
   "cell_type": "code",
   "execution_count": 2,
   "metadata": {},
   "outputs": [
    {
     "name": "stdout",
     "output_type": "stream",
     "text": [
      "1\n",
      "3\n",
      "5\n",
      "7\n",
      "9\n",
      "11\n",
      "13\n",
      "15\n",
      "17\n",
      "19\n",
      "21\n",
      "23\n",
      "25\n",
      "27\n",
      "29\n",
      "31\n",
      "33\n",
      "35\n",
      "37\n",
      "39\n",
      "41\n",
      "43\n",
      "45\n",
      "47\n",
      "49\n",
      "51\n",
      "53\n",
      "55\n",
      "57\n",
      "59\n",
      "61\n",
      "63\n",
      "65\n",
      "67\n",
      "69\n",
      "71\n",
      "73\n",
      "75\n",
      "77\n",
      "79\n",
      "81\n",
      "83\n",
      "85\n",
      "87\n",
      "89\n",
      "91\n",
      "93\n",
      "95\n",
      "97\n",
      "99\n"
     ]
    }
   ],
   "source": [
    "i = 1\n",
    "while i <= 100\n",
    "\tif i % 2 == 1\n",
    "\t\tprintln(i)\n",
    "\tend\n",
    "\n",
    "\ti+=1\n",
    "end"
   ]
  },
  {
   "cell_type": "code",
   "execution_count": 3,
   "metadata": {},
   "outputs": [
    {
     "name": "stdout",
     "output_type": "stream",
     "text": [
      "38\n"
     ]
    }
   ],
   "source": [
    "x = 1000\n",
    "length = 1\n",
    "while x > 1e-8\n",
    "\tlength += 1\n",
    "\tx /= 2\n",
    "end\n",
    "\n",
    "println(length)"
   ]
  },
  {
   "cell_type": "code",
   "execution_count": 8,
   "metadata": {},
   "outputs": [
    {
     "data": {
      "text/plain": [
       "24"
      ]
     },
     "metadata": {},
     "output_type": "display_data"
    }
   ],
   "source": [
    "function factorial(x::Int128)\n",
    "\tif x==0 return 1 end\n",
    "\tif x<0 return undef end\n",
    "\n",
    "\ti = 1\n",
    "\tresult = 1\n",
    "\twhile i <= x\n",
    "\t\tresult *= i\n",
    "\t\ti += 1\n",
    "\tend\n",
    "\t\n",
    "\treturn result\n",
    "end\n",
    "\n",
    "\n",
    "#=\n",
    "function factorial(x::Int128)\n",
    "\tif x==0 return 1 end\n",
    "\tif x<0  return undef end\n",
    "\tif x==1 reuurn 1 end\n",
    "\n",
    "\treturn x*factorial(x-10)\n",
    "end\n",
    "=#\n",
    "\n",
    "factorial(Int128(4))"
   ]
  },
  {
   "cell_type": "markdown",
   "metadata": {},
   "source": [
    "# Homework"
   ]
  },
  {
   "cell_type": "code",
   "execution_count": 38,
   "metadata": {},
   "outputs": [
    {
     "name": "stdout",
     "output_type": "stream",
     "text": [
      "[2, 1, 3, 1, 8, 13, 9, 3, 2, 1, 9, 1, 17, 5, 10, 1, 3, 3, 4, 1, 3, 2, 5, 6, 13, 8, 1, 2, 2, 5, 1, 9, 4, 8, 1, 11, 1, 3, 2, 5, 3, 4, 6, 2, 1, 6, 8, 3, 12, 2, 1, 8, 6, 5, 3, 3, 4, 2, 7, 4, 4, 1, 2, 9, 5, 1, 12, 1, 1, 8, 5, 3, 1, 22, 1, 14, 3, 1, 3, 6, 2, 4, 12, 8, 7, 8, 2, 2, 2, 2, 3, 3, 4, 7, 4, 2, 14, 6, 3, 18]\n"
     ]
    }
   ],
   "source": [
    "all_result = [0]\n",
    "for i in 1:100\n",
    "\troll = 0\n",
    "\tcount = 0\n",
    "\twhile roll != 6\n",
    "\t\troll = rand(1:6)\n",
    "\t\tcount += 1\n",
    "\tend\n",
    "\tall_result = [all_result count]\n",
    "end\n",
    "all_result = all_result[2:end]\n",
    "\n",
    "println(all_result)\n"
   ]
  }
 ],
 "metadata": {
  "kernelspec": {
   "display_name": "Julia 1.10.5",
   "language": "julia",
   "name": "julia-1.10"
  },
  "language_info": {
   "file_extension": ".jl",
   "mimetype": "application/julia",
   "name": "julia",
   "version": "1.10.5"
  }
 },
 "nbformat": 4,
 "nbformat_minor": 2
}
