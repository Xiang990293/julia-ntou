{
 "cells": [
  {
   "cell_type": "code",
   "execution_count": 3,
   "metadata": {},
   "outputs": [
    {
     "data": {
      "text/plain": [
       "showtypetree (generic function with 2 methods)"
      ]
     },
     "execution_count": 3,
     "metadata": {},
     "output_type": "execute_result"
    }
   ],
   "source": [
    "function showtypetree(T, level=0)\n",
    "\tprintln(\"\\t\" ^ level, T)\n",
    "\tfor t in subtypes(T)\n",
    "\t\tif length(subtypes(T)) > 0\n",
    "\t\t\tshowtypetree(t, level+1)\n",
    "\t\tend\n",
    "\tend\n",
    "end\n"
   ]
  },
  {
   "cell_type": "code",
   "execution_count": 6,
   "metadata": {},
   "outputs": [
    {
     "name": "stdout",
     "output_type": "stream",
     "text": [
      "Dict\n"
     ]
    }
   ],
   "source": [
    "showtypetree(Dict)"
   ]
  },
  {
   "cell_type": "code",
   "execution_count": 7,
   "metadata": {},
   "outputs": [
    {
     "name": "stdout",
     "output_type": "stream",
     "text": [
      "  0.000003 seconds\n"
     ]
    },
    {
     "data": {
      "text/plain": [
       "0.49999153245609573"
      ]
     },
     "execution_count": 7,
     "metadata": {},
     "output_type": "execute_result"
    }
   ],
   "source": [
    "function power_series(base::Real, n::Int64)\n",
    "\treturn (1/base*(1-(1/base)^n))/(1-(1/base))\n",
    "end\n",
    "\n",
    "@time power_series(3, 10)"
   ]
  }
 ],
 "metadata": {
  "kernelspec": {
   "display_name": "Julia 1.10.5",
   "language": "julia",
   "name": "julia-1.10"
  },
  "language_info": {
   "file_extension": ".jl",
   "mimetype": "application/julia",
   "name": "julia",
   "version": "1.10.5"
  }
 },
 "nbformat": 4,
 "nbformat_minor": 2
}
