{
 "cells": [
  {
   "cell_type": "code",
   "execution_count": 44,
   "metadata": {},
   "outputs": [
    {
     "name": "stdout",
     "output_type": "stream",
     "text": [
      "[6 4; 7 5]\n",
      "[7 6; 5 4]\n",
      "[5 7; 4 6]\n",
      "[4 5; 6 7]\n"
     ]
    }
   ],
   "source": [
    "include(\"rotarr.jl\")\n",
    "c=[4 5; 6 7]\n",
    "\n",
    "println(rotarr(c,1))\n",
    "println(rotarr(c,2))\n",
    "println(rotarr(c,3))\n",
    "println(rotarr(c,4))\n"
   ]
  },
  {
   "cell_type": "code",
   "execution_count": 56,
   "metadata": {},
   "outputs": [
    {
     "name": "stdout",
     "output_type": "stream",
     "text": [
      "1275\n",
      "1275\n",
      "1275\n"
     ]
    }
   ],
   "source": [
    "println((1+50)*25)\n",
    "println(sum(1:50))\n",
    "println(sum(range(1,50)))\n"
   ]
  },
  {
   "cell_type": "code",
   "execution_count": 60,
   "metadata": {},
   "outputs": [
    {
     "name": "stdout",
     "output_type": "stream",
     "text": [
      "20.0\n",
      "45\n"
     ]
    }
   ],
   "source": [
    "b=\n",
    "[1 2 30; \n",
    " 4 50 6;\n",
    " 70 8 9]\n",
    "\n",
    "#[row,col] \n",
    "\n",
    "println(sum(b[2,1:3])/length(b[2,1:3]))\n",
    "println(sum(b[1:3,3]))"
   ]
  },
  {
   "cell_type": "code",
   "execution_count": 72,
   "metadata": {},
   "outputs": [
    {
     "name": "stdout",
     "output_type": "stream",
     "text": [
      "5.0\n",
      "13.0\n",
      "17.0\n",
      "41.0\n"
     ]
    }
   ],
   "source": [
    "include(\"calVelocity.jl\")\n",
    "\n",
    "println(calVelocity(3.0,4.0))\n",
    "println(calVelocity(5.0,12.0))\n",
    "println(calVelocity(8.0,15.0))\n",
    "println(calVelocity(9.0,40.0))"
   ]
  },
  {
   "cell_type": "code",
   "execution_count": 122,
   "metadata": {},
   "outputs": [
    {
     "data": {
      "text/plain": [
       "find_pair (generic function with 2 methods)"
      ]
     },
     "metadata": {},
     "output_type": "display_data"
    }
   ],
   "source": [
    "function find_pair(arr::Array, target_val::Int64)\n",
    "\tarr=sort(arr,dims=2)\n",
    "\n",
    "\tcurrent_pair=[max(arr), min(arr)]\n",
    "\tmin_sum=2*max(arr)+1\n",
    "\n",
    "\tfor i in arr\n",
    "\t\tfor j in [arr if num > i]\n",
    "\t\t\tif i+j<min_sum\n",
    "\t\t\t\tmin_sun=i+j\n",
    "\t\t\t\tcurrent_pair=[i,j]\n",
    "\t\t\tend\n",
    "\t\tend\n",
    "\tend\n",
    "\t\t\n",
    "\t\n",
    "\n",
    "\treturn [max,min]\n",
    "end"
   ]
  },
  {
   "cell_type": "code",
   "execution_count": 119,
   "metadata": {},
   "outputs": [
    {
     "data": {
      "text/plain": [
       "2-element Vector{Int64}:\n",
       " 9\n",
       " 0"
      ]
     },
     "metadata": {},
     "output_type": "display_data"
    }
   ],
   "source": [
    "find_pair([1 5 7 4 6 8 9 7 5 3 4 2 0], 5)"
   ]
  }
 ],
 "metadata": {
  "kernelspec": {
   "display_name": "Julia 1.10.5",
   "language": "julia",
   "name": "julia-1.10"
  },
  "language_info": {
   "file_extension": ".jl",
   "mimetype": "application/julia",
   "name": "julia",
   "version": "1.10.5"
  }
 },
 "nbformat": 4,
 "nbformat_minor": 2
}
