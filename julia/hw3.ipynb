{
 "cells": [
  {
   "cell_type": "code",
   "execution_count": 1,
   "metadata": {},
   "outputs": [
    {
     "name": "stdout",
     "output_type": "stream",
     "text": [
      "5 5, bingo\n"
     ]
    }
   ],
   "source": [
    "a=rand(1:6)\n",
    "b=rand(1:6)\n",
    "\n",
    "if a==b\n",
    "\tprintln(\"$a $b, bingo\")\n",
    "else\n",
    "\tprintln(\"$a $b, try again\")\n",
    "end"
   ]
  },
  {
   "cell_type": "code",
   "execution_count": 2,
   "metadata": {},
   "outputs": [
    {
     "name": "stdout",
     "output_type": "stream",
     "text": [
      "100\n"
     ]
    }
   ],
   "source": [
    "x=1:2:10000\n",
    "\n",
    "sum=0\n",
    "for i in range(1,length(x))\n",
    "\tsum+=x[i]\n",
    "\tif sum>=10000\n",
    "\t\tprintln(i)\n",
    "\t\tbreak\n",
    "\tend\n",
    "end"
   ]
  },
  {
   "cell_type": "code",
   "execution_count": 3,
   "metadata": {},
   "outputs": [
    {
     "name": "stdout",
     "output_type": "stream",
     "text": [
      "2550\n"
     ]
    }
   ],
   "source": [
    "sum=0\n",
    "for i in 2:2:100\n",
    "\tsum+=i\n",
    "end\n",
    "println(sum)"
   ]
  },
  {
   "cell_type": "code",
   "execution_count": 4,
   "metadata": {},
   "outputs": [
    {
     "name": "stdout",
     "output_type": "stream",
     "text": [
      "7*1=7  7*2=14  7*3=21  7*4=28  7*5=35  7*6=42  7*7=49  7*8=56  7*9=63  "
     ]
    }
   ],
   "source": [
    "for i in 1:9\n",
    "\tprint(\"7*$i=$(7*i)  \")\n",
    "end"
   ]
  },
  {
   "cell_type": "code",
   "execution_count": 1,
   "metadata": {},
   "outputs": [
    {
     "data": {
      "text/plain": [
       "true"
      ]
     },
     "metadata": {},
     "output_type": "display_data"
    }
   ],
   "source": [
    "function is_prime(x::Int64)\n",
    "\tif (x<=1) return false end\n",
    "\tfor i in 2:1:sqrt(x)\n",
    "\t\tif x%i==0\n",
    "\t\t\treturn false\n",
    "\t\tend\n",
    "\tend\n",
    "\treturn true\n",
    "end\n",
    "\n",
    "is_prime(8191)\n",
    "is_prime(62683)"
   ]
  },
  {
   "cell_type": "markdown",
   "metadata": {},
   "source": [
    "for input jupyter in vscode (well... I decide to input with file \"input.txt\")"
   ]
  },
  {
   "cell_type": "code",
   "execution_count": null,
   "metadata": {},
   "outputs": [],
   "source": [
    "# using Pkg\n",
    "# Pkg.add(\"Interact\")\n",
    "# Pkg.add(\"WebIO\")\n",
    "# Pkg.add(\"IJulia\")\n",
    "# Pkg.build(\"WebIO\")\n",
    "# using IJulia\n",
    "# using Interact\n",
    "# using Conda\n",
    "# using WebIO # within a Julia REPL\n",
    "\n",
    "# Conda.pip_interop(true)\n",
    "# Conda.pip(\"install\", \"webio_jupyter_extension\")\n",
    "# WebIO.install_jupyter_nbextension()"
   ]
  },
  {
   "cell_type": "code",
   "execution_count": 26,
   "metadata": {},
   "outputs": [
    {
     "name": "stdout",
     "output_type": "stream",
     "text": [
      "false\n",
      "true\n",
      "false\n",
      "true\n",
      "false\n",
      "false\n",
      "false\n",
      "true\n",
      "false\n",
      "false\n",
      "false\n",
      "false\n",
      "false\n",
      "true\n",
      "false\n",
      "false\n",
      "false\n",
      "false\n",
      "false\n",
      "true\n",
      "false\n",
      "false\n",
      "false\n",
      "false\n",
      "false\n",
      "true\n",
      "false\n",
      "true\n",
      "false\n",
      "false\n",
      "false\n",
      "true\n",
      "true\n",
      "true\n",
      "false\n",
      "false\n",
      "false\n",
      "false\n",
      "true\n",
      "true\n",
      "false\n",
      "false\n",
      "true\n"
     ]
    }
   ],
   "source": [
    "function is_leap(x::Int64)\n",
    "\tif x%400==0\n",
    "\t\treturn true\n",
    "\telseif x%100==0\n",
    "\t\treturn false\n",
    "\telseif x%4==0\n",
    "\t\treturn true\n",
    "\telse\n",
    "\t\treturn false\n",
    "\tend\n",
    "end\n",
    "\n",
    "for line in read(\"input.txt\")\n",
    "\tprintln(is_leap(Int64(line)))\n",
    "end"
   ]
  },
  {
   "cell_type": "code",
   "execution_count": 85,
   "metadata": {},
   "outputs": [
    {
     "data": {
      "text/plain": [
       "\"Strong\""
      ]
     },
     "metadata": {},
     "output_type": "display_data"
    }
   ],
   "source": [
    "function password_score(password::AbstractString)\n",
    "\tscore = 0\n",
    "\n",
    "\tif length(password)>=8\n",
    "\t\tscore += 1\n",
    "\tend\n",
    "\n",
    "\tasciis = [Int64(i) for i in password]\n",
    "\n",
    "\tupper_check = false\n",
    "\tlower_check = false\n",
    "\tdigit_check = false\n",
    "\tspecial_check = false\n",
    "\tfor i in asciis\n",
    "\t\tif i in 65:90 && !upper_check #A~Z\n",
    "\t\t\tscore+=1\n",
    "\t\t\tupper_check = true\n",
    "\t\tend\n",
    "\t\tif i in 97:122 && !lower_check #a~z\n",
    "\t\t\tscore+=1\n",
    "\t\t\tlower_check = true\n",
    "\t\tend\n",
    "\t\tif i in 48:57 && !digit_check #0~9\n",
    "\t\t\tscore+=1\n",
    "\t\t\tdigit_check = true\n",
    "\t\tend\n",
    "\t\tif i in append!(Vector(33:47),Vector(58:64),Vector(91:96),Vector(123:126)) && !special_check\n",
    "\t\t\tscore+=1\n",
    "\t\t\tspecial_check = true\n",
    "\t\tend\n",
    "\t\tif i > 128 #Invalid character\n",
    "\t\t\treturn -1\n",
    "\t\tend\n",
    "\tend\n",
    "\n",
    "\treturn score\n",
    "end\n",
    "\n",
    "function password_strength(password::AbstractString)\n",
    "\tscore = password_score(password)\n",
    "\n",
    "\tif score >= 5\n",
    "\t\treturn \"Strong\"\n",
    "\telseif score >= 3\n",
    "\t\treturn \"Moderate\"\n",
    "\telseif score >= 0\n",
    "\t\treturn \"Weak\"\n",
    "\telse\n",
    "\t\treturn \"Invalid\"\n",
    "\tend\n",
    "end\n",
    "\n",
    "password_strength(\"0!aAsdfsd\")"
   ]
  }
 ],
 "metadata": {
  "kernelspec": {
   "display_name": "Julia 1.10.5",
   "language": "julia",
   "name": "julia-1.10"
  },
  "language_info": {
   "file_extension": ".jl",
   "mimetype": "application/julia",
   "name": "julia",
   "version": "1.10.5"
  }
 },
 "nbformat": 4,
 "nbformat_minor": 2
}
